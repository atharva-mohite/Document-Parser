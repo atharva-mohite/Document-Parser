{
  "nbformat": 4,
  "nbformat_minor": 0,
  "metadata": {
    "colab": {
      "provenance": [],
      "collapsed_sections": [
        "xMsuu94OHbd5",
        "kWOql6pDHC9Q",
        "V8XrHStEI8yN",
        "S9vtST7uRHak",
        "oiLrhr9DUfNA"
      ]
    },
    "kernelspec": {
      "name": "python3",
      "display_name": "Python 3"
    },
    "language_info": {
      "name": "python"
    },
    "gpuClass": "standard"
  },
  "cells": [
    {
      "cell_type": "markdown",
      "source": [
        "Download this notebook and upload it on google colab\n",
        "\n",
        "Execute all code cells using the *Run all* option\n",
        "\n",
        "Delete previous runtime before running the notebook again"
      ],
      "metadata": {
        "id": "4yYVVdNCJRnf"
      }
    },
    {
      "cell_type": "markdown",
      "source": [
        "# Upload PDF document(s)"
      ],
      "metadata": {
        "id": "EVTIpivAKXgK"
      }
    },
    {
      "cell_type": "code",
      "source": [
        "from google.colab import files\n",
        "uploaded = files.upload()"
      ],
      "metadata": {
        "id": "_YyF8t2XKWBW",
        "colab": {
          "base_uri": "https://localhost:8080/",
          "height": 74
        },
        "outputId": "736dbb18-2f3f-44d6-b36c-4deebe5f09cb"
      },
      "execution_count": 16,
      "outputs": [
        {
          "output_type": "display_data",
          "data": {
            "text/plain": [
              "<IPython.core.display.HTML object>"
            ],
            "text/html": [
              "\n",
              "     <input type=\"file\" id=\"files-0e44ff4f-e458-494c-94cb-bbfc2e1aea05\" name=\"files[]\" multiple disabled\n",
              "        style=\"border:none\" />\n",
              "     <output id=\"result-0e44ff4f-e458-494c-94cb-bbfc2e1aea05\">\n",
              "      Upload widget is only available when the cell has been executed in the\n",
              "      current browser session. Please rerun this cell to enable.\n",
              "      </output>\n",
              "      <script>// Copyright 2017 Google LLC\n",
              "//\n",
              "// Licensed under the Apache License, Version 2.0 (the \"License\");\n",
              "// you may not use this file except in compliance with the License.\n",
              "// You may obtain a copy of the License at\n",
              "//\n",
              "//      http://www.apache.org/licenses/LICENSE-2.0\n",
              "//\n",
              "// Unless required by applicable law or agreed to in writing, software\n",
              "// distributed under the License is distributed on an \"AS IS\" BASIS,\n",
              "// WITHOUT WARRANTIES OR CONDITIONS OF ANY KIND, either express or implied.\n",
              "// See the License for the specific language governing permissions and\n",
              "// limitations under the License.\n",
              "\n",
              "/**\n",
              " * @fileoverview Helpers for google.colab Python module.\n",
              " */\n",
              "(function(scope) {\n",
              "function span(text, styleAttributes = {}) {\n",
              "  const element = document.createElement('span');\n",
              "  element.textContent = text;\n",
              "  for (const key of Object.keys(styleAttributes)) {\n",
              "    element.style[key] = styleAttributes[key];\n",
              "  }\n",
              "  return element;\n",
              "}\n",
              "\n",
              "// Max number of bytes which will be uploaded at a time.\n",
              "const MAX_PAYLOAD_SIZE = 100 * 1024;\n",
              "\n",
              "function _uploadFiles(inputId, outputId) {\n",
              "  const steps = uploadFilesStep(inputId, outputId);\n",
              "  const outputElement = document.getElementById(outputId);\n",
              "  // Cache steps on the outputElement to make it available for the next call\n",
              "  // to uploadFilesContinue from Python.\n",
              "  outputElement.steps = steps;\n",
              "\n",
              "  return _uploadFilesContinue(outputId);\n",
              "}\n",
              "\n",
              "// This is roughly an async generator (not supported in the browser yet),\n",
              "// where there are multiple asynchronous steps and the Python side is going\n",
              "// to poll for completion of each step.\n",
              "// This uses a Promise to block the python side on completion of each step,\n",
              "// then passes the result of the previous step as the input to the next step.\n",
              "function _uploadFilesContinue(outputId) {\n",
              "  const outputElement = document.getElementById(outputId);\n",
              "  const steps = outputElement.steps;\n",
              "\n",
              "  const next = steps.next(outputElement.lastPromiseValue);\n",
              "  return Promise.resolve(next.value.promise).then((value) => {\n",
              "    // Cache the last promise value to make it available to the next\n",
              "    // step of the generator.\n",
              "    outputElement.lastPromiseValue = value;\n",
              "    return next.value.response;\n",
              "  });\n",
              "}\n",
              "\n",
              "/**\n",
              " * Generator function which is called between each async step of the upload\n",
              " * process.\n",
              " * @param {string} inputId Element ID of the input file picker element.\n",
              " * @param {string} outputId Element ID of the output display.\n",
              " * @return {!Iterable<!Object>} Iterable of next steps.\n",
              " */\n",
              "function* uploadFilesStep(inputId, outputId) {\n",
              "  const inputElement = document.getElementById(inputId);\n",
              "  inputElement.disabled = false;\n",
              "\n",
              "  const outputElement = document.getElementById(outputId);\n",
              "  outputElement.innerHTML = '';\n",
              "\n",
              "  const pickedPromise = new Promise((resolve) => {\n",
              "    inputElement.addEventListener('change', (e) => {\n",
              "      resolve(e.target.files);\n",
              "    });\n",
              "  });\n",
              "\n",
              "  const cancel = document.createElement('button');\n",
              "  inputElement.parentElement.appendChild(cancel);\n",
              "  cancel.textContent = 'Cancel upload';\n",
              "  const cancelPromise = new Promise((resolve) => {\n",
              "    cancel.onclick = () => {\n",
              "      resolve(null);\n",
              "    };\n",
              "  });\n",
              "\n",
              "  // Wait for the user to pick the files.\n",
              "  const files = yield {\n",
              "    promise: Promise.race([pickedPromise, cancelPromise]),\n",
              "    response: {\n",
              "      action: 'starting',\n",
              "    }\n",
              "  };\n",
              "\n",
              "  cancel.remove();\n",
              "\n",
              "  // Disable the input element since further picks are not allowed.\n",
              "  inputElement.disabled = true;\n",
              "\n",
              "  if (!files) {\n",
              "    return {\n",
              "      response: {\n",
              "        action: 'complete',\n",
              "      }\n",
              "    };\n",
              "  }\n",
              "\n",
              "  for (const file of files) {\n",
              "    const li = document.createElement('li');\n",
              "    li.append(span(file.name, {fontWeight: 'bold'}));\n",
              "    li.append(span(\n",
              "        `(${file.type || 'n/a'}) - ${file.size} bytes, ` +\n",
              "        `last modified: ${\n",
              "            file.lastModifiedDate ? file.lastModifiedDate.toLocaleDateString() :\n",
              "                                    'n/a'} - `));\n",
              "    const percent = span('0% done');\n",
              "    li.appendChild(percent);\n",
              "\n",
              "    outputElement.appendChild(li);\n",
              "\n",
              "    const fileDataPromise = new Promise((resolve) => {\n",
              "      const reader = new FileReader();\n",
              "      reader.onload = (e) => {\n",
              "        resolve(e.target.result);\n",
              "      };\n",
              "      reader.readAsArrayBuffer(file);\n",
              "    });\n",
              "    // Wait for the data to be ready.\n",
              "    let fileData = yield {\n",
              "      promise: fileDataPromise,\n",
              "      response: {\n",
              "        action: 'continue',\n",
              "      }\n",
              "    };\n",
              "\n",
              "    // Use a chunked sending to avoid message size limits. See b/62115660.\n",
              "    let position = 0;\n",
              "    do {\n",
              "      const length = Math.min(fileData.byteLength - position, MAX_PAYLOAD_SIZE);\n",
              "      const chunk = new Uint8Array(fileData, position, length);\n",
              "      position += length;\n",
              "\n",
              "      const base64 = btoa(String.fromCharCode.apply(null, chunk));\n",
              "      yield {\n",
              "        response: {\n",
              "          action: 'append',\n",
              "          file: file.name,\n",
              "          data: base64,\n",
              "        },\n",
              "      };\n",
              "\n",
              "      let percentDone = fileData.byteLength === 0 ?\n",
              "          100 :\n",
              "          Math.round((position / fileData.byteLength) * 100);\n",
              "      percent.textContent = `${percentDone}% done`;\n",
              "\n",
              "    } while (position < fileData.byteLength);\n",
              "  }\n",
              "\n",
              "  // All done.\n",
              "  yield {\n",
              "    response: {\n",
              "      action: 'complete',\n",
              "    }\n",
              "  };\n",
              "}\n",
              "\n",
              "scope.google = scope.google || {};\n",
              "scope.google.colab = scope.google.colab || {};\n",
              "scope.google.colab._files = {\n",
              "  _uploadFiles,\n",
              "  _uploadFilesContinue,\n",
              "};\n",
              "})(self);\n",
              "</script> "
            ]
          },
          "metadata": {}
        },
        {
          "output_type": "stream",
          "name": "stdout",
          "text": [
            "Saving sample.pdf to sample (1).pdf\n"
          ]
        }
      ]
    },
    {
      "cell_type": "markdown",
      "source": [
        "# Installing packages"
      ],
      "metadata": {
        "id": "xMsuu94OHbd5"
      }
    },
    {
      "cell_type": "code",
      "source": [
        "!pip install pdfminer.six"
      ],
      "metadata": {
        "id": "2dCba7iDHft2",
        "colab": {
          "base_uri": "https://localhost:8080/"
        },
        "outputId": "43441f72-2e45-48e2-e232-6dfeaa693b7a"
      },
      "execution_count": 17,
      "outputs": [
        {
          "output_type": "stream",
          "name": "stdout",
          "text": [
            "Looking in indexes: https://pypi.org/simple, https://us-python.pkg.dev/colab-wheels/public/simple/\n",
            "Requirement already satisfied: pdfminer.six in /usr/local/lib/python3.8/dist-packages (20221105)\n",
            "Requirement already satisfied: cryptography>=36.0.0 in /usr/local/lib/python3.8/dist-packages (from pdfminer.six) (39.0.0)\n",
            "Requirement already satisfied: charset-normalizer>=2.0.0 in /usr/local/lib/python3.8/dist-packages (from pdfminer.six) (2.1.1)\n",
            "Requirement already satisfied: cffi>=1.12 in /usr/local/lib/python3.8/dist-packages (from cryptography>=36.0.0->pdfminer.six) (1.15.1)\n",
            "Requirement already satisfied: pycparser in /usr/local/lib/python3.8/dist-packages (from cffi>=1.12->cryptography>=36.0.0->pdfminer.six) (2.21)\n"
          ]
        }
      ]
    },
    {
      "cell_type": "code",
      "source": [
        "!pip install PyPDF2"
      ],
      "metadata": {
        "id": "X-OMUCA1Hk70",
        "colab": {
          "base_uri": "https://localhost:8080/"
        },
        "outputId": "51bb8775-1ba9-434a-d7de-e6d9df40b490"
      },
      "execution_count": 18,
      "outputs": [
        {
          "output_type": "stream",
          "name": "stdout",
          "text": [
            "Looking in indexes: https://pypi.org/simple, https://us-python.pkg.dev/colab-wheels/public/simple/\n",
            "Requirement already satisfied: PyPDF2 in /usr/local/lib/python3.8/dist-packages (3.0.1)\n",
            "Requirement already satisfied: typing_extensions>=3.10.0.0 in /usr/local/lib/python3.8/dist-packages (from PyPDF2) (4.4.0)\n"
          ]
        }
      ]
    },
    {
      "cell_type": "markdown",
      "source": [
        "# Importing libraries and functions"
      ],
      "metadata": {
        "id": "kWOql6pDHC9Q"
      }
    },
    {
      "cell_type": "code",
      "execution_count": 19,
      "metadata": {
        "id": "RA6EV5jpGDMy"
      },
      "outputs": [],
      "source": [
        "import os \n",
        "import glob\n",
        "from PyPDF2 import PdfWriter, PdfReader \n",
        "import sys \n",
        "import re \n",
        "from pdfminer.pdfinterp import PDFResourceManager, PDFPageInterpreter \n",
        "from pdfminer.converter import TextConverter \n",
        "from pdfminer.layout import LAParams \n",
        "from pdfminer.pdfpage import PDFPage\n",
        "from io import BytesIO \n",
        "import string "
      ]
    },
    {
      "cell_type": "markdown",
      "source": [
        "# Merging PDF documents"
      ],
      "metadata": {
        "id": "V8XrHStEI8yN"
      }
    },
    {
      "cell_type": "code",
      "source": [
        "def merger(output_path, input_paths):\n",
        "  pdf_writer = PdfWriter()\n",
        "  for path in input_paths:\n",
        "    pdf_reader = PdfReader(path)\n",
        "    for page in range(len(pdf_reader.pages)):\n",
        "      pdf_writer.add_page(pdf_reader.pages[page])\n",
        "  with open(output_path, 'wb') as fh:\n",
        "    pdf_writer.write(fh)"
      ],
      "metadata": {
        "id": "RyIIcA6SGKVz"
      },
      "execution_count": 20,
      "outputs": []
    },
    {
      "cell_type": "code",
      "source": [
        "paths = glob.glob('/content/*.pdf')\n",
        "paths.sort()\n",
        "merger('/content/pdf_merged.pdf', paths)\n",
        "print(\"Done, PDF Merged successfully..\")"
      ],
      "metadata": {
        "id": "yygSmEWZJIcA",
        "colab": {
          "base_uri": "https://localhost:8080/"
        },
        "outputId": "d7e99280-671f-4f21-bc6a-5505be671b90"
      },
      "execution_count": 21,
      "outputs": [
        {
          "output_type": "stream",
          "name": "stdout",
          "text": [
            "Done, PDF Merged successfully..\n"
          ]
        }
      ]
    },
    {
      "cell_type": "markdown",
      "source": [
        "# Splitting the merged pdf document into group of one page documents"
      ],
      "metadata": {
        "id": "S9vtST7uRHak"
      }
    },
    {
      "cell_type": "code",
      "source": [
        "if not os.path.exists('/content/split'):\n",
        "  os.mkdir('/content/split') \n",
        "\n",
        "def pdf_remove (length):\n",
        "  for i in range(length): \n",
        "    os.remove(\"/content/split/{}\".format(fname[i])) \n",
        "    print(\"Deleted: /content/split/{}\".format(fname[i]))"
      ],
      "metadata": {
        "id": "7lZVAH3zHsit"
      },
      "execution_count": 22,
      "outputs": []
    },
    {
      "cell_type": "code",
      "source": [
        "def pdf_splitter(path):\n",
        "  fname = os.path.splitext(os.path.basename(path))[0]\n",
        "  pdf = PdfReader(path)\n",
        "  for page in range(len(pdf.pages)):\n",
        "    pdf_writer = PdfWriter()\n",
        "    pdf_writer.add_page(pdf.pages[page]) \n",
        "\n",
        "    output_filename = '/content/split/{}.pdf'.format(page+1)\n",
        "\n",
        "    with open(output_filename, 'wb') as out:\n",
        "      pdf_writer.write(out)\n",
        "\n",
        "    print('Created: {}'.format(output_filename))"
      ],
      "metadata": {
        "id": "npRlYk1oRqo5"
      },
      "execution_count": 23,
      "outputs": []
    },
    {
      "cell_type": "code",
      "source": [
        "path = '/content/pdf_merged.pdf' \n",
        "fname = os.listdir('/content/split') \n",
        "length = len(fname) \n",
        "\n",
        "pdf_remove(length) \n",
        "\n",
        "pdf_splitter(path) "
      ],
      "metadata": {
        "colab": {
          "base_uri": "https://localhost:8080/"
        },
        "id": "mI_ozuFwRsGl",
        "outputId": "601d4e4e-73ee-4220-f0bc-7029e0ffce6f"
      },
      "execution_count": 24,
      "outputs": [
        {
          "output_type": "stream",
          "name": "stdout",
          "text": [
            "Deleted: /content/split/1.pdf\n",
            "Deleted: /content/split/2.pdf\n",
            "Created: /content/split/1.pdf\n",
            "Created: /content/split/2.pdf\n",
            "Created: /content/split/3.pdf\n",
            "Created: /content/split/4.pdf\n",
            "Created: /content/split/5.pdf\n",
            "Created: /content/split/6.pdf\n"
          ]
        }
      ]
    },
    {
      "cell_type": "markdown",
      "source": [
        "# Extracting text from all the one page documents "
      ],
      "metadata": {
        "id": "oiLrhr9DUfNA"
      }
    },
    {
      "cell_type": "code",
      "source": [
        "with open(os.path.join('/content', 'Output.txt'), 'w') as fp:\n",
        "  pass\n",
        "  \n",
        "def clear_text():\n",
        "   open(\"/content/Output.txt\", \"w\").close()"
      ],
      "metadata": {
        "id": "2HnC_VvcHsl8"
      },
      "execution_count": 25,
      "outputs": []
    },
    {
      "cell_type": "code",
      "source": [
        "#writelines function\n",
        "def writelines(self, lines):\n",
        "  self._checkClosed()\n",
        "  for line in lines:\n",
        "    self.write(line)"
      ],
      "metadata": {
        "id": "HREjoOJyVHL0"
      },
      "execution_count": 26,
      "outputs": []
    },
    {
      "cell_type": "code",
      "source": [
        "#PDF to text Function. \n",
        "def pdf_to_text(path):\n",
        "  manager = PDFResourceManager()\n",
        "  retstr = BytesIO()\n",
        "  layout = LAParams(all_texts=True)\n",
        "  device = TextConverter(manager, retstr, laparams=layout)\n",
        "  filepath = open(path, 'rb')\n",
        "  interpreter = PDFPageInterpreter(manager, device)\n",
        "\n",
        "  for page in PDFPage.get_pages(filepath, check_extractable=True):\n",
        "    interpreter.process_page(page)\n",
        "\n",
        "  text = retstr.getvalue()\n",
        "  filepath.close()\n",
        "  device.close()\n",
        "  retstr.close()\n",
        "  return text"
      ],
      "metadata": {
        "id": "OI2HrpflVHQI"
      },
      "execution_count": 27,
      "outputs": []
    },
    {
      "cell_type": "code",
      "source": [
        "clear_text()\n",
        "\n",
        "fname = os.listdir('/content/split') \n",
        "\n",
        "fname.sort(key=lambda f: int(re.sub('\\D', '', f)))\n",
        "length = len(fname) \n",
        "\n",
        "for i in range(length): \n",
        "  text_output = pdf_to_text(('/content/split/{}').format(fname[i])) \n",
        "  text1_output = text_output.decode(\"utf-8\")     \n",
        " \n",
        "  with open(\"/content/Output.txt\", \"a\", encoding=\"utf-8\") as text_file:\n",
        "    text_file.writelines(text1_output)"
      ],
      "metadata": {
        "id": "ll6L1yhEHspo"
      },
      "execution_count": 28,
      "outputs": []
    },
    {
      "cell_type": "markdown",
      "source": [
        "# Counting the number of characters \n",
        "\n",
        "This cell displays total number of characters in the document excluding white space characters and punctuation marks"
      ],
      "metadata": {
        "id": "rs2K76qOnrxc"
      }
    },
    {
      "cell_type": "code",
      "source": [
        "txt_file = open(\"/content/Output.txt\", \"r\")\n",
        "\n",
        "data = txt_file.read().replace(\" \",\"\")\n",
        "\n",
        "data = data.translate(str.maketrans('', '', string.punctuation))\n",
        "\n",
        "number_of_characters = len(data)\n",
        "\n",
        "print('Number of characters :', number_of_characters)"
      ],
      "metadata": {
        "id": "yU2NC39iGKZb",
        "colab": {
          "base_uri": "https://localhost:8080/"
        },
        "outputId": "1eba91ba-34cb-4472-fcb6-6313f58bc964"
      },
      "execution_count": 29,
      "outputs": [
        {
          "output_type": "stream",
          "name": "stdout",
          "text": [
            "Number of characters : 2118\n"
          ]
        }
      ]
    },
    {
      "cell_type": "markdown",
      "source": [
        "# Counting the number of duplicate words\n",
        "\n",
        "This cell displays the count of duplicate words\n",
        "\n",
        "n(duplicate words) = n(total words) - n(unique words)"
      ],
      "metadata": {
        "id": "qDnmGq2xptpa"
      }
    },
    {
      "cell_type": "code",
      "source": [
        "punctuation_marks = string.punctuation + '–'\n",
        "\n",
        "text = open(\"/content/Output.txt\", \"r\")\n",
        "  \n",
        "d = dict()\n",
        "\n",
        "for line in text:\n",
        "\n",
        "  line = line.strip()\n",
        "\n",
        "  line = line.lower()\n",
        "\n",
        "  line = line.translate(line.maketrans(\"\", \"\", punctuation_marks))\n",
        "\n",
        "  words = line.split(\" \")\n",
        "  \n",
        "  for word in words:\n",
        "    if word in d:\n",
        "      d[word] = d[word] + 1\n",
        "    else:\n",
        "      d[word] = 1\n",
        "\n",
        "del d['']\n",
        "\n",
        "dup_word_count = 0\n",
        "\n",
        "for key in list(d.keys()):\n",
        "  # uncomment the below line to display the count of every word\n",
        "  # print(key, \":\", d[key]) \n",
        "  dup_word_count = dup_word_count + d[key] \n",
        "\n",
        "dup_word_count = dup_word_count - len(d)\n",
        "print('Number of duplicate words :', dup_word_count)"
      ],
      "metadata": {
        "colab": {
          "base_uri": "https://localhost:8080/"
        },
        "id": "G4rTCH2nqv36",
        "outputId": "f790056c-5a08-4695-e259-1651607789f3"
      },
      "execution_count": 30,
      "outputs": [
        {
          "output_type": "stream",
          "name": "stdout",
          "text": [
            "Number of duplicate words : 489\n"
          ]
        }
      ]
    }
  ]
}